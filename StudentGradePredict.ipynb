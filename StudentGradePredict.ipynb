{
 "cells": [
  {
   "cell_type": "code",
   "execution_count": 1,
   "outputs": [],
   "source": [
    "%matplotlib inline"
   ],
   "metadata": {
    "collapsed": false,
    "pycharm": {
     "name": "#%%\n"
    }
   }
  },
  {
   "cell_type": "code",
   "execution_count": 2,
   "outputs": [],
   "source": [
    "from matplotlib import pyplot as plt\n",
    "import numpy as np\n",
    "import csv\n",
    "import pandas as pd"
   ],
   "metadata": {
    "collapsed": false,
    "pycharm": {
     "name": "#%%\n"
    }
   }
  },
  {
   "cell_type": "code",
   "execution_count": 3,
   "outputs": [
    {
     "name": "stdout",
     "output_type": "stream",
     "text": [
      "     school sex age address famsize Pstatus Medu Fedu      Mjob      Fjob  \\\n",
      "0        GP   F  15       R     GT3       T    1    1   at_home     other   \n",
      "1        GP   F  15       R     GT3       T    1    1   at_home     other   \n",
      "2        GP   F  15       R     GT3       T    1    1     other     other   \n",
      "3        GP   F  15       R     GT3       T    1    1     other     other   \n",
      "4        GP   F  15       R     GT3       T    1    1     other     other   \n",
      "...     ...  ..  ..     ...     ...     ...  ...  ...       ...       ...   \n",
      "1039     MS   M  19       U     GT3       T    3    2   at_home  services   \n",
      "1040     MS   M  19       U     LE3       T    1    1     other   at_home   \n",
      "1041     MS   M  20       R     GT3       T    1    1     other     other   \n",
      "1042     MS   M  20       U     LE3       A    2    2  services  services   \n",
      "1043     MS   M  21       R     GT3       T    1    1     other     other   \n",
      "\n",
      "      ... famrel freetime goout Dalc Walc health absences  G1  G2  G3  \n",
      "0     ...      3        1     2    1    1      1        4  13  13  13  \n",
      "1     ...      3        1     2    1    1      1        2   7  10  10  \n",
      "2     ...      5        5     5    1    1      1        2   8   9   9  \n",
      "3     ...      3        3     4    2    4      5        2  13  11  11  \n",
      "4     ...      3        3     4    2    4      5        2   8   6   5  \n",
      "...   ...    ...      ...   ...  ...  ...    ...      ...  ..  ..  ..  \n",
      "1039  ...      3        2     1    1    1      3        4   6  11   9  \n",
      "1040  ...      3        2     3    3    3      5        5   8   9   9  \n",
      "1041  ...      4        4     3    2    4      4       12   8  11  10  \n",
      "1042  ...      5        5     4    4    5      4       11   9   9   9  \n",
      "1043  ...      5        5     3    3    3      3        3  10   8   7  \n",
      "\n",
      "[1044 rows x 33 columns]\n"
     ]
    }
   ],
   "source": [
    "with open('Datasets/student/student-mat.csv', 'r') as f:\n",
    "    data1 = list(csv.reader(f, delimiter=\";\"))\n",
    "\n",
    "data1 = np.array(data1)\n",
    "\n",
    "with open('Datasets/student/student-por.csv', 'r') as f2:\n",
    "    data2 = list(csv.reader(f2, delimiter=\";\"))\n",
    "\n",
    "data2 = np.array(data2)\n",
    "data = np.append(data1, data2, axis=0)\n",
    "data = np.unique(data, axis=0)\n",
    "\n",
    "data = np.delete(data, len(data)-1, 0)\n",
    "\n",
    "data_raw = pd.DataFrame(data, columns= [\"school\",\"sex\",\"age\",\"address\",\"famsize\",\"Pstatus\",\"Medu\",\"Fedu\",\"Mjob\",\"Fjob\",\"reason\",\"guardian\",\"traveltime\",\"studytime\",\"failures\",\"schoolsup\",\"famsup\",\"paid\",\"activities\",\"nursery\",\"higher\",\"internet\",\"romantic\",\"famrel\",\"freetime\",\"goout\",\"Dalc\",\"Walc\",\"health\",\"absences\",\"G1\",\"G2\",\"G3\"])\n",
    "\n",
    "print(data_raw)"
   ],
   "metadata": {
    "collapsed": false,
    "pycharm": {
     "name": "#%%\n"
    }
   }
  },
  {
   "cell_type": "markdown",
   "source": [
    "Data Insight"
   ],
   "metadata": {
    "collapsed": false,
    "pycharm": {
     "name": "#%% md\n"
    }
   }
  },
  {
   "cell_type": "code",
   "execution_count": 46,
   "outputs": [
    {
     "data": {
      "text/plain": "Empty DataFrame\nColumns: []\nIndex: []",
      "text/html": "<div>\n<style scoped>\n    .dataframe tbody tr th:only-of-type {\n        vertical-align: middle;\n    }\n\n    .dataframe tbody tr th {\n        vertical-align: top;\n    }\n\n    .dataframe thead th {\n        text-align: right;\n    }\n</style>\n<table border=\"1\" class=\"dataframe\">\n  <thead>\n    <tr style=\"text-align: right;\">\n      <th></th>\n    </tr>\n  </thead>\n  <tbody>\n  </tbody>\n</table>\n</div>"
     },
     "execution_count": 46,
     "metadata": {},
     "output_type": "execute_result"
    }
   ],
   "source": [
    "data = data_raw.copy()\n",
    "\n",
    "# data.plot(kind=\"scatter\", x=\"G1\", y=\"G3\")\n",
    "\n",
    "\n",
    "corr_matrix = data.corr()\n",
    "\n",
    "# corr_matrix[\"G3\"].sort_values(ascending=False)\n",
    "corr_matrix"
   ],
   "metadata": {
    "collapsed": false,
    "pycharm": {
     "name": "#%%\n"
    }
   }
  },
  {
   "cell_type": "markdown",
   "source": [
    "Data Processing"
   ],
   "metadata": {
    "collapsed": false,
    "pycharm": {
     "name": "#%% md\n"
    }
   }
  },
  {
   "cell_type": "code",
   "execution_count": 4,
   "outputs": [],
   "source": [
    "data = data_raw.copy()"
   ],
   "metadata": {
    "collapsed": false,
    "pycharm": {
     "name": "#%%\n"
    }
   }
  },
  {
   "cell_type": "code",
   "execution_count": 20,
   "outputs": [
    {
     "data": {
      "text/plain": "[array(['GP', 'MS'], dtype=object)]"
     },
     "execution_count": 20,
     "metadata": {},
     "output_type": "execute_result"
    }
   ],
   "source": [
    "from sklearn.preprocessing import OneHotEncoder\n",
    "\n",
    "school_cat = data[[\"school\"]]\n",
    "\n",
    "cat_encoder = OneHotEncoder()\n",
    "school_cat_1hot = cat_encoder.fit_transform(school_cat)\n",
    "school_cat_1hot.toarray()\n",
    "cat_encoder.categories_"
   ],
   "metadata": {
    "collapsed": false,
    "pycharm": {
     "name": "#%%\n"
    }
   }
  },
  {
   "cell_type": "code",
   "execution_count": 32,
   "outputs": [],
   "source": [
    "from sklearn.pipeline import Pipeline\n",
    "from sklearn.preprocessing import StandardScaler\n",
    "from sklearn.impute import SimpleImputer\n",
    "from sklearn.compose import ColumnTransformer\n",
    "\n",
    "num_pipeline = Pipeline([\n",
    "              ('imputer', SimpleImputer(strategy=\"median\")),\n",
    "              ('std_scaler', StandardScaler()),\n",
    "        ])\n",
    "\n",
    "cat_attribs = [\"school\", \"sex\", \"address\", \"famsize\", \"Mjob\", \"Fjob\", \"reason\", \"guardian\", \"schoolsup\", \"famsup\", \"paid\", \"activities\", \"nursery\", \"higher\", \"internet\",\n",
    "               \"romantic\"]\n",
    "num_attribs = [\"age\", \"Medu\", \"Fedu\", \"traveltime\", \"studytime\", \"failures\", \"famrel\", \"freetime\", \"goout\", \"Dalc\", \"Walc\", \"health\", \"absences\", \"G1\", \"G2\", \"G3\"]\n",
    "\n",
    "full_pipeline = ColumnTransformer([\n",
    "    (\"cat\", OneHotEncoder(), cat_attribs),\n",
    "    (\"num\", num_pipeline, num_attribs)\n",
    "])\n",
    "\n",
    "data_prepared = full_pipeline.fit_transform(data)"
   ],
   "metadata": {
    "collapsed": false,
    "pycharm": {
     "name": "#%%\n"
    }
   }
  }
 ],
 "metadata": {
  "kernelspec": {
   "display_name": "Python 3",
   "language": "python",
   "name": "python3"
  },
  "language_info": {
   "codemirror_mode": {
    "name": "ipython",
    "version": 2
   },
   "file_extension": ".py",
   "mimetype": "text/x-python",
   "name": "python",
   "nbconvert_exporter": "python",
   "pygments_lexer": "ipython2",
   "version": "2.7.6"
  }
 },
 "nbformat": 4,
 "nbformat_minor": 0
}