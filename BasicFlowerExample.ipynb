{
 "cells": [
  {
   "cell_type": "markdown",
   "source": [
    "https://www.youtube.com/watch?v=gwitf7ABtK8&ab_channel=giant_neural_network"
   ],
   "metadata": {
    "collapsed": false,
    "pycharm": {
     "name": "#%% md\n"
    }
   }
  },
  {
   "cell_type": "code",
   "execution_count": 41,
   "outputs": [],
   "source": [
    "# import numpy\n",
    "import numpy as np"
   ],
   "metadata": {
    "collapsed": false,
    "pycharm": {
     "name": "#%%\n"
    }
   }
  },
  {
   "cell_type": "code",
   "execution_count": 42,
   "outputs": [],
   "source": [
    "def NN(m1, m2, w1, w2, b):\n",
    "\tz = m1 * w1 + m2* w2 + b\n",
    "\treturn sigmoid(z)\n",
    "\n",
    "def sigmoid(x):\n",
    "\treturn 1/(1 + np.exp(-x))"
   ],
   "metadata": {
    "collapsed": false,
    "pycharm": {
     "name": "#%%\n"
    }
   }
  },
  {
   "cell_type": "code",
   "execution_count": 43,
   "outputs": [],
   "source": [
    "w1 = np.random.randn()\n",
    "w2 = np.random.randn()\n",
    "b = np.random.randn()"
   ],
   "metadata": {
    "collapsed": false,
    "pycharm": {
     "name": "#%%\n"
    }
   }
  },
  {
   "cell_type": "code",
   "execution_count": 44,
   "outputs": [
    {
     "data": {
      "text/plain": "0.9741638682405771"
     },
     "execution_count": 44,
     "metadata": {},
     "output_type": "execute_result"
    }
   ],
   "source": [
    "NN(3, 1.5, w1, w2, b)"
   ],
   "metadata": {
    "collapsed": false,
    "pycharm": {
     "name": "#%%\n"
    }
   }
  },
  {
   "cell_type": "code",
   "execution_count": 45,
   "outputs": [
    {
     "data": {
      "text/plain": "0.898889194336689"
     },
     "execution_count": 45,
     "metadata": {},
     "output_type": "execute_result"
    }
   ],
   "source": [
    "NN(2, 1, w1, w2, b)"
   ],
   "metadata": {
    "collapsed": false,
    "pycharm": {
     "name": "#%%\n"
    }
   }
  },
  {
   "cell_type": "code",
   "execution_count": 46,
   "outputs": [
    {
     "data": {
      "text/plain": "0.8303365367406315"
     },
     "execution_count": 46,
     "metadata": {},
     "output_type": "execute_result"
    }
   ],
   "source": [
    "NN(2, .5, w1, w2, b)"
   ],
   "metadata": {
    "collapsed": false,
    "pycharm": {
     "name": "#%%\n"
    }
   }
  },
  {
   "cell_type": "code",
   "execution_count": 47,
   "outputs": [],
   "source": [
    "def cost(b):\n",
    "\treturn (b-4) ** 2 # power of 2\n",
    "\n",
    "def slope(b):\n",
    "\treturn 2 * (b-4)"
   ],
   "metadata": {
    "collapsed": false,
    "pycharm": {
     "name": "#%%\n"
    }
   }
  },
  {
   "cell_type": "code",
   "execution_count": 48,
   "outputs": [],
   "source": [
    "b = 0"
   ],
   "metadata": {
    "collapsed": false,
    "pycharm": {
     "name": "#%%\n"
    }
   }
  },
  {
   "cell_type": "code",
   "execution_count": 49,
   "outputs": [
    {
     "name": "stdout",
     "output_type": "stream",
     "text": [
      "0.8\n"
     ]
    }
   ],
   "source": [
    "b = b - .1 * slope(b)\n",
    "print(b)"
   ],
   "metadata": {
    "collapsed": false,
    "pycharm": {
     "name": "#%%\n"
    }
   }
  },
  {
   "cell_type": "code",
   "execution_count": 50,
   "outputs": [
    {
     "name": "stdout",
     "output_type": "stream",
     "text": [
      "1.4400000000000002\n",
      "1.952\n",
      "2.3616\n",
      "2.68928\n",
      "2.9514240000000003\n",
      "3.1611392\n",
      "3.32891136\n",
      "3.463129088\n",
      "3.5705032704\n",
      "3.6564026163200003\n",
      "3.725122093056\n",
      "3.7800976744448\n",
      "3.82407813955584\n",
      "3.8592625116446717\n",
      "3.8874100093157375\n",
      "3.90992800745259\n",
      "3.927942405962072\n",
      "3.9423539247696575\n",
      "3.953883139815726\n",
      "3.9631065118525806\n",
      "3.9704852094820646\n",
      "3.9763881675856516\n",
      "3.981110534068521\n",
      "3.984888427254817\n",
      "3.9879107418038537\n",
      "3.990328593443083\n",
      "3.9922628747544664\n",
      "3.993810299803573\n",
      "3.995048239842858\n",
      "3.9960385918742864\n",
      "3.9968308734994293\n",
      "3.9974646987995435\n",
      "3.997971759039635\n",
      "3.998377407231708\n",
      "3.998701925785366\n",
      "3.998961540628293\n",
      "3.9991692325026342\n",
      "3.9993353860021075\n",
      "3.999468308801686\n",
      "3.9995746470413485\n",
      "3.9996597176330786\n",
      "3.999727774106463\n",
      "3.99978221928517\n",
      "3.9998257754281363\n",
      "3.999860620342509\n",
      "3.999888496274007\n",
      "3.9999107970192056\n",
      "3.9999286376153647\n",
      "3.9999429100922916\n",
      "3.999954328073833\n",
      "3.9999634624590668\n",
      "3.9999707699672533\n",
      "3.999976615973803\n",
      "3.9999812927790424\n",
      "3.9999850342232337\n",
      "3.999988027378587\n",
      "3.9999904219028695\n",
      "3.9999923375222957\n",
      "3.9999938700178364\n",
      "3.999995096014269\n",
      "3.9999960768114153\n",
      "3.9999968614491324\n",
      "3.999997489159306\n",
      "3.9999979913274446\n",
      "3.9999983930619556\n",
      "3.9999987144495646\n",
      "3.9999989715596516\n",
      "3.9999991772477212\n",
      "3.999999341798177\n",
      "3.9999994734385416\n",
      "3.9999995787508333\n",
      "3.9999996630006667\n",
      "3.9999997304005332\n",
      "3.9999997843204267\n",
      "3.9999998274563415\n",
      "3.9999998619650734\n",
      "3.9999998895720585\n",
      "3.999999911657647\n",
      "3.9999999293261177\n",
      "3.999999943460894\n",
      "3.9999999547687155\n",
      "3.9999999638149726\n",
      "3.9999999710519782\n",
      "3.9999999768415826\n",
      "3.999999981473266\n",
      "3.9999999851786128\n",
      "3.99999998814289\n",
      "3.999999990514312\n",
      "3.9999999924114498\n",
      "3.9999999939291597\n",
      "3.9999999951433276\n",
      "3.999999996114662\n",
      "3.99999999689173\n",
      "3.9999999975133838\n",
      "3.999999998010707\n",
      "3.9999999984085655\n",
      "3.999999998726852\n",
      "3.999999998981482\n",
      "3.9999999991851856\n",
      "3.9999999993481485\n"
     ]
    }
   ],
   "source": [
    "for i in range(100):\n",
    "\tb = b - .1 * slope(b)\n",
    "\tprint(b)"
   ],
   "metadata": {
    "collapsed": false,
    "pycharm": {
     "name": "#%%\n"
    }
   }
  },
  {
   "cell_type": "markdown",
   "source": [
    "Final Program"
   ],
   "metadata": {
    "collapsed": false,
    "pycharm": {
     "name": "#%% md\n"
    }
   }
  },
  {
   "cell_type": "code",
   "execution_count": 51,
   "outputs": [],
   "source": [
    "import numpy as np\n",
    "\n",
    "# flower data (in the future should be in an actual)\n",
    "b1 = [1, 1, 0]\n",
    "b2 = [2, 1, 0]\n",
    "b3 = [2, .5, 0]\n",
    "b4 = [3, 1, 0]\n",
    "\n",
    "r1 = [3, 1.5, 1]\n",
    "r2 = [3.5, .5, 1]\n",
    "r3 = [4, 1.5, 1]\n",
    "r4 = [5.5, 1, 1]\n",
    "\n",
    "data = np.array([b1, b2, b3, b4, r1, r2, r3, r4], np.int32)\n",
    "\n",
    "unknown = [4.5, 1]\n",
    "\n",
    "def sigmoid(x):\n",
    "\treturn 1/(1 + np.exp(-x))\n",
    "\n",
    "def train():\n",
    "\tw1 = np.random.randn()*.2 - .1\n",
    "\tw2 = np.random.randn()*.2 - .1\n",
    "\tb = np.random.randn()*.2 - .1\n",
    "\tlearning_rate = 0.2\n",
    "\n",
    "\tfor iter in range(50000):\n",
    "\t\t# choose random point\n",
    "\t\trandom_index = np.floor(np.random.rand() * (data.shape[0]-1))\n",
    "\t\tpoint = data[int(random_index)]\n",
    "\t\t# # point = np.random.choice(data)\n",
    "\t\t# pointRow = data[:1, :]\n",
    "\t\t# point = pointRow[0]\n",
    "\t\t# print(str(point))\n",
    "\t\ttarget = point[2]\n",
    "\n",
    "\t\t# feed forward\n",
    "\t\tz = w1 * point[0] + w2 * point[1] + b\n",
    "\t\tprediction = sigmoid(z)\n",
    "\n",
    "\t\t# compare model prediction with target\n",
    "\t\tcost = (prediction - target) ** 2\n",
    "\n",
    "\t\t# find slope of cost for each parameter (w1, w2, b)\n",
    "\t\t# bring derivative through square function\n",
    "\t\tdcost_dpred = 2 * (prediction - target)\n",
    "\n",
    "\t\t# derivative through sigmoid\n",
    "\t\tdpred_dz = sigmoid(z) * (1-sigmoid(z))\n",
    "\n",
    "\t\tdz_dw1 = point[0]\n",
    "\t\tdz_dw2 = point[1]\n",
    "\t\tdz_db = 1\n",
    "\n",
    "\t\t# now we can get the partial derivatives through chain rule\n",
    "\t\tdcost_dw1 = dcost_dpred * dpred_dz * dz_dw1\n",
    "\t\tdcost_dw2 = dcost_dpred * dpred_dz * dz_dw2\n",
    "\t\tdcost_db = dcost_dpred * dpred_dz * dz_db\n",
    "\n",
    "\t\t# update parameters\n",
    "\t\tw1 -= learning_rate * dcost_dw1\n",
    "\t\tw2 -= learning_rate * dcost_dw2\n",
    "\t\tb -= learning_rate * dcost_db\n",
    "\n",
    "\treturn [w1, w2, b]"
   ],
   "metadata": {
    "collapsed": false,
    "pycharm": {
     "name": "#%%\n"
    }
   }
  },
  {
   "cell_type": "code",
   "execution_count": 52,
   "outputs": [
    {
     "name": "stdout",
     "output_type": "stream",
     "text": [
      "Training results | w1: 6.486935803903098 w2: -3.2017678773707665 b: -15.225312890111335\n"
     ]
    }
   ],
   "source": [
    "vals = train()\n",
    "print(\"Training results | w1: \" + str(vals[0]) + \" w2: \" + str(vals[1]) + \" b: \" + str(vals[2]))"
   ],
   "metadata": {
    "collapsed": false,
    "pycharm": {
     "name": "#%%\n"
    }
   }
  },
  {
   "cell_type": "code",
   "execution_count": 53,
   "outputs": [
    {
     "data": {
      "text/plain": "0.9999788559389722"
     },
     "execution_count": 53,
     "metadata": {},
     "output_type": "execute_result"
    }
   ],
   "source": [
    "def testTrained(vals, m1, m2):\n",
    "\tz = vals[0] * m1 + vals[1] * m2 + vals[2]\n",
    "\treturn sigmoid(z)\n",
    "\n",
    "testTrained(vals, unknown[0], unknown[1])"
   ],
   "metadata": {
    "collapsed": false,
    "pycharm": {
     "name": "#%%\n"
    }
   }
  }
 ],
 "metadata": {
  "kernelspec": {
   "display_name": "Python 3",
   "language": "python",
   "name": "python3"
  },
  "language_info": {
   "codemirror_mode": {
    "name": "ipython",
    "version": 2
   },
   "file_extension": ".py",
   "mimetype": "text/x-python",
   "name": "python",
   "nbconvert_exporter": "python",
   "pygments_lexer": "ipython2",
   "version": "2.7.6"
  }
 },
 "nbformat": 4,
 "nbformat_minor": 0
}